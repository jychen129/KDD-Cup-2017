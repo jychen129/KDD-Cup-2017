{
 "cells": [
  {
   "cell_type": "code",
   "execution_count": 29,
   "metadata": {
    "collapsed": true
   },
   "outputs": [],
   "source": [
    "import pandas as pd\n",
    "import csv\n",
    "from pandas import DataFrame,Series"
   ]
  },
  {
   "cell_type": "code",
   "execution_count": 9,
   "metadata": {
    "collapsed": false
   },
   "outputs": [],
   "source": [
    "tra_df = pd.read_csv('datas/train/trajectories(table_5)_training.csv')\n",
    "vol_df = pd.read_csv('datas/train/volume(table_6)_training.csv')"
   ]
  },
  {
   "cell_type": "code",
   "execution_count": 14,
   "metadata": {
    "collapsed": false
   },
   "outputs": [],
   "source": [
    "tra_df.travel_seq = tra_df.travel_seq.map(lambda seq:seq.split(';'))"
   ]
  },
  {
   "cell_type": "code",
   "execution_count": 53,
   "metadata": {
    "collapsed": false
   },
   "outputs": [],
   "source": [
    "trajectories = []\n",
    "with open('datas/train/trajectories(table_5)_training.csv') as csvfile:\n",
    "    csvreader = csv.DictReader(csvfile)\n",
    "    for row in csvreader:\n",
    "        travel_seq = row[\"travel_seq\"].split(\";\")\n",
    "        for travel in travel_seq:\n",
    "            cur_row = row.copy()\n",
    "            cur_row[\"total_travel_time\"] = cur_row[\"travel_time\"]\n",
    "            link_id,enter_time,travel_time = travel.split(\"#\")\n",
    "            cur_row[\"link_id\"] = link_id\n",
    "            cur_row[\"enter_time\"] = enter_time\n",
    "            cur_row[\"travel_time\"] = travel_time\n",
    "            cur_row[\"travel_seq\"] = ','.join(map(lambda s:s.split(\"#\")[0],travel_seq))\n",
    "            trajectories.append(cur_row)"
   ]
  },
  {
   "cell_type": "code",
   "execution_count": 55,
   "metadata": {
    "collapsed": false
   },
   "outputs": [],
   "source": [
    "tra_m_df = DataFrame(trajectories)"
   ]
  },
  {
   "cell_type": "code",
   "execution_count": 57,
   "metadata": {
    "collapsed": false
   },
   "outputs": [
    {
     "data": {
      "text/html": [
       "<div>\n",
       "<table border=\"1\" class=\"dataframe\">\n",
       "  <thead>\n",
       "    <tr style=\"text-align: right;\">\n",
       "      <th></th>\n",
       "      <th>enter_time</th>\n",
       "      <th>intersection_id</th>\n",
       "      <th>link_id</th>\n",
       "      <th>starting_time</th>\n",
       "      <th>tollgate_id</th>\n",
       "      <th>total_travel_time</th>\n",
       "      <th>travel_seq</th>\n",
       "      <th>travel_time</th>\n",
       "      <th>vehicle_id</th>\n",
       "    </tr>\n",
       "  </thead>\n",
       "  <tbody>\n",
       "    <tr>\n",
       "      <th>0</th>\n",
       "      <td>2016-07-19 00:14:24</td>\n",
       "      <td>B</td>\n",
       "      <td>105</td>\n",
       "      <td>2016-07-19 00:14:24</td>\n",
       "      <td>3</td>\n",
       "      <td>70.85</td>\n",
       "      <td>105,100,111,103,122</td>\n",
       "      <td>9.56</td>\n",
       "      <td>1065642</td>\n",
       "    </tr>\n",
       "    <tr>\n",
       "      <th>1</th>\n",
       "      <td>2016-07-19 00:14:34</td>\n",
       "      <td>B</td>\n",
       "      <td>100</td>\n",
       "      <td>2016-07-19 00:14:24</td>\n",
       "      <td>3</td>\n",
       "      <td>70.85</td>\n",
       "      <td>105,100,111,103,122</td>\n",
       "      <td>6.75</td>\n",
       "      <td>1065642</td>\n",
       "    </tr>\n",
       "    <tr>\n",
       "      <th>2</th>\n",
       "      <td>2016-07-19 00:14:41</td>\n",
       "      <td>B</td>\n",
       "      <td>111</td>\n",
       "      <td>2016-07-19 00:14:24</td>\n",
       "      <td>3</td>\n",
       "      <td>70.85</td>\n",
       "      <td>105,100,111,103,122</td>\n",
       "      <td>13.00</td>\n",
       "      <td>1065642</td>\n",
       "    </tr>\n",
       "    <tr>\n",
       "      <th>3</th>\n",
       "      <td>2016-07-19 00:14:54</td>\n",
       "      <td>B</td>\n",
       "      <td>103</td>\n",
       "      <td>2016-07-19 00:14:24</td>\n",
       "      <td>3</td>\n",
       "      <td>70.85</td>\n",
       "      <td>105,100,111,103,122</td>\n",
       "      <td>7.47</td>\n",
       "      <td>1065642</td>\n",
       "    </tr>\n",
       "    <tr>\n",
       "      <th>4</th>\n",
       "      <td>2016-07-19 00:15:02</td>\n",
       "      <td>B</td>\n",
       "      <td>122</td>\n",
       "      <td>2016-07-19 00:14:24</td>\n",
       "      <td>3</td>\n",
       "      <td>70.85</td>\n",
       "      <td>105,100,111,103,122</td>\n",
       "      <td>32.85</td>\n",
       "      <td>1065642</td>\n",
       "    </tr>\n",
       "  </tbody>\n",
       "</table>\n",
       "</div>"
      ],
      "text/plain": [
       "            enter_time intersection_id link_id        starting_time  \\\n",
       "0  2016-07-19 00:14:24               B     105  2016-07-19 00:14:24   \n",
       "1  2016-07-19 00:14:34               B     100  2016-07-19 00:14:24   \n",
       "2  2016-07-19 00:14:41               B     111  2016-07-19 00:14:24   \n",
       "3  2016-07-19 00:14:54               B     103  2016-07-19 00:14:24   \n",
       "4  2016-07-19 00:15:02               B     122  2016-07-19 00:14:24   \n",
       "\n",
       "  tollgate_id total_travel_time           travel_seq travel_time vehicle_id  \n",
       "0           3             70.85  105,100,111,103,122        9.56    1065642  \n",
       "1           3             70.85  105,100,111,103,122        6.75    1065642  \n",
       "2           3             70.85  105,100,111,103,122       13.00    1065642  \n",
       "3           3             70.85  105,100,111,103,122        7.47    1065642  \n",
       "4           3             70.85  105,100,111,103,122       32.85    1065642  "
      ]
     },
     "execution_count": 57,
     "metadata": {},
     "output_type": "execute_result"
    }
   ],
   "source": [
    "tra_m_df.head()"
   ]
  },
  {
   "cell_type": "code",
   "execution_count": 60,
   "metadata": {
    "collapsed": false
   },
   "outputs": [],
   "source": [
    "tra_m_df.to_csv('datas/train/merged_trajectories(table_5)_training.csv',index=False,)"
   ]
  },
  {
   "cell_type": "code",
   "execution_count": null,
   "metadata": {
    "collapsed": true
   },
   "outputs": [],
   "source": []
  }
 ],
 "metadata": {
  "anaconda-cloud": {},
  "kernelspec": {
   "display_name": "Python [default]",
   "language": "python",
   "name": "python3"
  },
  "language_info": {
   "codemirror_mode": {
    "name": "ipython",
    "version": 3
   },
   "file_extension": ".py",
   "mimetype": "text/x-python",
   "name": "python",
   "nbconvert_exporter": "python",
   "pygments_lexer": "ipython3",
   "version": "3.5.2"
  }
 },
 "nbformat": 4,
 "nbformat_minor": 2
}
