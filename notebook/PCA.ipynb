{
 "cells": [
  {
   "cell_type": "code",
   "execution_count": 20,
   "metadata": {
    "collapsed": false
   },
   "outputs": [],
   "source": [
    "# Handle table-like data and matrices\n",
    "import numpy as np\n",
    "import pandas as pd\n",
    "import plotly.plotly as py\n",
    "from pandas import DataFrame,Series\n",
    "import csv\n",
    "import pprint\n",
    "from sklearn.cluster import KMeans,FeatureAgglomeration\n",
    "from sklearn.svm import SVR\n",
    "from sklearn.neighbors import KNeighborsClassifier\n",
    "from sklearn.tree import DecisionTreeClassifier\n",
    "from sklearn.ensemble import RandomForestRegressor\n",
    "from sklearn import preprocessing\n",
    "from sklearn.decomposition import PCA,FastICA\n",
    "from sklearn.cross_decomposition import CCA\n",
    "import statsmodels.api as sm\n",
    "from sklearn.multioutput import MultiOutputRegressor\n",
    "from statsmodels.tsa.stattools import acf  \n",
    "from statsmodels.tsa.stattools import pacf\n",
    "from statsmodels.tsa.seasonal import seasonal_decompose\n",
    "from statsmodels.tsa.stattools import adfuller\n",
    "\n",
    "# Visualisation\n",
    "import matplotlib as mpl\n",
    "import matplotlib.pyplot as plt\n",
    "import matplotlib.pylab as pylab\n",
    "import seaborn as sns\n",
    "\n",
    "# Others\n",
    "import math\n",
    "import datetime\n",
    "\n",
    "\n",
    "# Configure visualisations\n",
    "%matplotlib inline\n",
    "mpl.style.use( 'ggplot' )\n",
    "sns.set_style( 'white' )\n",
    "pylab.rcParams[ 'figure.figsize' ] = 16, 8"
   ]
  },
  {
   "cell_type": "code",
   "execution_count": 2,
   "metadata": {
    "collapsed": false
   },
   "outputs": [],
   "source": [
    "train_volume = pd.read_csv(\n",
    "    '../datasets/train/volume(table_6)_training.csv',\n",
    "    parse_dates=True,\n",
    "    index_col=[0]\n",
    ")\n",
    "train_volume2 = pd.read_csv(\n",
    "    '../datasets/train/volume(table_6)_training2.csv',\n",
    "    parse_dates=True,\n",
    "    index_col=[0]\n",
    ")\n",
    "\n",
    "volume = pd.concat([\n",
    "    train_volume,\n",
    "    train_volume2\n",
    "])\n",
    "volume['counter'] = 1\n",
    "volume['route'] = 'T' + \\\n",
    "    volume.tollgate_id.map(str) + 'D' + volume.direction.map(str)\n",
    "del volume['tollgate_id']\n",
    "del volume['direction']\n",
    "\n",
    "del train_volume\n",
    "del train_volume2\n",
    "\n",
    "train_weather = pd.read_csv(\n",
    "    '../datasets/train/weather_(table_7)_training_update.csv')\n",
    "train_weather2 = pd.read_csv(\n",
    "    '../datasets/train/weather_(table_7)_2.csv')\n",
    "\n",
    "weather = pd.concat([\n",
    "    train_weather,\n",
    "    train_weather2\n",
    "])\n",
    "del train_weather\n",
    "del train_weather2"
   ]
  },
  {
   "cell_type": "code",
   "execution_count": 3,
   "metadata": {
    "collapsed": false
   },
   "outputs": [],
   "source": [
    "volume_grouped = volume.groupby(['route']).resample('20min').count()[\n",
    "    'counter'].unstack().T.fillna(0).astype(int)\n",
    "holidays_index = pd.date_range('2016-9-30', '2016-10-9', freq='20min')\n",
    "volume_grouped = volume_grouped.loc[volume_grouped.index.difference(\n",
    "    holidays_index)]"
   ]
  },
  {
   "cell_type": "code",
   "execution_count": 4,
   "metadata": {
    "collapsed": false
   },
   "outputs": [],
   "source": [
    "index = volume_grouped.between_time('0:00','00:40').index\n",
    "volume_grouped.loc[index,['T1D1','T3D1']] = 0\n",
    "volume_grouped.index = pd.MultiIndex.from_arrays(\n",
    "    [volume_grouped.index.date, volume_grouped.index.time], names=['date', 'time'])\n",
    "volume_grouped = volume_grouped.unstack()"
   ]
  },
  {
   "cell_type": "code",
   "execution_count": 5,
   "metadata": {
    "collapsed": false
   },
   "outputs": [],
   "source": [
    "validate_index = pd.date_range('2016-10-20', '2016-10-24').date\n",
    "training_index = volume_grouped.index.difference(validate_index)"
   ]
  },
  {
   "cell_type": "code",
   "execution_count": 6,
   "metadata": {
    "collapsed": false
   },
   "outputs": [],
   "source": [
    "pca = PCA(n_components=1)\n",
    "pca_volume_grouped = pca.fit_transform(volume_grouped.loc[training_index].stack())"
   ]
  },
  {
   "cell_type": "code",
   "execution_count": 27,
   "metadata": {
    "collapsed": false
   },
   "outputs": [
    {
     "data": {
      "image/png": "[encoded data removed]",
      "text/plain": [
       "<matplotlib.figure.Figure at 0x7f9e5e1f65f8>"
      ]
     },
     "metadata": {},
     "output_type": "display_data"
    }
   ],
   "source": [
    "fig = plt.figure()\n",
    "ax1 = fig.add_subplot(211)\n",
    "fig = sm.graphics.tsa.plot_acf(pca_volume_grouped.flatten(), lags=72, ax=ax1)\n",
    "ax2 = fig.add_subplot(212)\n",
    "fig = sm.graphics.tsa.plot_pacf(pca_volume_grouped.flatten(), lags=72, ax=ax2)"
   ]
  },
  {
   "cell_type": "code",
   "execution_count": 704,
   "metadata": {
    "collapsed": false
   },
   "outputs": [
    {
     "data": {
      "text/plain": [
       "array([ 0.91934428])"
      ]
     },
     "execution_count": 704,
     "metadata": {},
     "output_type": "execute_result"
    }
   ],
   "source": [
    "pca.explained_variance_ratio_"
   ]
  },
  {
   "cell_type": "code",
   "execution_count": 33,
   "metadata": {
    "collapsed": true
   },
   "outputs": [],
   "source": [
    "S = 72\n",
    "d, D = 0, 0\n",
    "p, q = 3, 1\n",
    "P, Q = 2, 0\n",
    "order=(p, d, q)\n",
    "seasonal_order=(P, D, Q, S)"
   ]
  },
  {
   "cell_type": "code",
   "execution_count": 34,
   "metadata": {
    "collapsed": false
   },
   "outputs": [],
   "source": [
    "mod = sm.tsa.statespace.SARIMAX(\n",
    "    endog=pca_volume_grouped.flatten(),\n",
    "    order=order,\n",
    "    seasonal_order=seasonal_order,\n",
    "    enforce_stationarity=False,\n",
    "    enforce_invertibility=False\n",
    ")"
   ]
  },
  {
   "cell_type": "code",
   "execution_count": 35,
   "metadata": {
    "collapsed": false
   },
   "outputs": [
    {
     "name": "stderr",
     "output_type": "stream",
     "text": [
      "/usr/local/anaconda3/lib/python3.5/site-packages/statsmodels/base/model.py:496: ConvergenceWarning:\n",
      "\n",
      "Maximum Likelihood optimization failed to converge. Check mle_retvals\n",
      "\n"
     ]
    }
   ],
   "source": [
    "results = mod.fit()"
   ]
  },
  {
   "cell_type": "code",
   "execution_count": 36,
   "metadata": {
    "collapsed": false
   },
   "outputs": [
    {
     "name": "stderr",
     "output_type": "stream",
     "text": [
      "/usr/local/anaconda3/lib/python3.5/site-packages/statsmodels/base/model.py:1036: RuntimeWarning:\n",
      "\n",
      "divide by zero encountered in true_divide\n",
      "\n",
      "/usr/local/anaconda3/lib/python3.5/site-packages/statsmodels/tsa/statespace/mlemodel.py:1964: RuntimeWarning:\n",
      "\n",
      "divide by zero encountered in true_divide\n",
      "\n"
     ]
    },
    {
     "data": {
      "text/html": [
       "<table class=\"simpletable\">\n",
       "<caption>Statespace Model Results</caption>\n",
       "<tr>\n",
       "  <th>Dep. Variable:</th>                  <td>y</td>                <th>  No. Observations:  </th>   <td>1583</td>   \n",
       "</tr>\n",
       "<tr>\n",
       "  <th>Model:</th>           <td>SARIMAX(13, 0, 1)x(1, 0, 0, 72)</td> <th>  Log Likelihood     </th> <td>-6090.993</td>\n",
       "</tr>\n",
       "<tr>\n",
       "  <th>Date:</th>                   <td>Thu, 25 May 2017</td>         <th>  AIC                </th> <td>12213.986</td>\n",
       "</tr>\n",
       "<tr>\n",
       "  <th>Time:</th>                       <td>22:40:51</td>             <th>  BIC                </th> <td>12299.859</td>\n",
       "</tr>\n",
       "<tr>\n",
       "  <th>Sample:</th>                         <td>0</td>                <th>  HQIC               </th> <td>12245.891</td>\n",
       "</tr>\n",
       "<tr>\n",
       "  <th></th>                             <td> - 1583</td>             <th>                     </th>     <td> </td>    \n",
       "</tr>\n",
       "<tr>\n",
       "  <th>Covariance Type:</th>               <td>opg</td>               <th>                     </th>     <td> </td>    \n",
       "</tr>\n",
       "</table>\n",
       "<table class=\"simpletable\">\n",
       "<tr>\n",
       "      <td></td>        <th>coef</th>     <th>std err</th>      <th>z</th>      <th>P>|z|</th>  <th>[0.025</th>    <th>0.975]</th>  \n",
       "</tr>\n",
       "<tr>\n",
       "  <th>ar.L1</th>    <td>    1.4822</td> <td>   66.239</td> <td>    0.022</td> <td> 0.982</td> <td> -128.343</td> <td>  131.307</td>\n",
       "</tr>\n",
       "<tr>\n",
       "  <th>ar.L2</th>    <td>   -0.2654</td> <td>   90.494</td> <td>   -0.003</td> <td> 0.998</td> <td> -177.631</td> <td>  177.100</td>\n",
       "</tr>\n",
       "<tr>\n",
       "  <th>ar.L3</th>    <td>   -0.1342</td> <td>   95.804</td> <td>   -0.001</td> <td> 0.999</td> <td> -187.907</td> <td>  187.639</td>\n",
       "</tr>\n",
       "<tr>\n",
       "  <th>ar.L4</th>    <td>   -0.0073</td> <td>  103.187</td> <td>-7.06e-05</td> <td> 1.000</td> <td> -202.251</td> <td>  202.236</td>\n",
       "</tr>\n",
       "<tr>\n",
       "  <th>ar.L5</th>    <td>   -0.1559</td> <td>  102.088</td> <td>   -0.002</td> <td> 0.999</td> <td> -200.245</td> <td>  199.933</td>\n",
       "</tr>\n",
       "<tr>\n",
       "  <th>ar.L6</th>    <td>    0.1236</td> <td>  104.357</td> <td>    0.001</td> <td> 0.999</td> <td> -204.412</td> <td>  204.659</td>\n",
       "</tr>\n",
       "<tr>\n",
       "  <th>ar.L7</th>    <td>   -0.1824</td> <td>   98.802</td> <td>   -0.002</td> <td> 0.999</td> <td> -193.830</td> <td>  193.465</td>\n",
       "</tr>\n",
       "<tr>\n",
       "  <th>ar.L8</th>    <td>    0.0526</td> <td>  103.200</td> <td>    0.001</td> <td> 1.000</td> <td> -202.215</td> <td>  202.320</td>\n",
       "</tr>\n",
       "<tr>\n",
       "  <th>ar.L9</th>    <td>    0.0891</td> <td>  104.117</td> <td>    0.001</td> <td> 0.999</td> <td> -203.976</td> <td>  204.155</td>\n",
       "</tr>\n",
       "<tr>\n",
       "  <th>ar.L10</th>   <td>    0.0538</td> <td>  107.853</td> <td>    0.000</td> <td> 1.000</td> <td> -211.335</td> <td>  211.443</td>\n",
       "</tr>\n",
       "<tr>\n",
       "  <th>ar.L11</th>   <td>   -0.0103</td> <td>  108.939</td> <td>-9.43e-05</td> <td> 1.000</td> <td> -213.527</td> <td>  213.506</td>\n",
       "</tr>\n",
       "<tr>\n",
       "  <th>ar.L12</th>   <td>   -0.0716</td> <td>  109.700</td> <td>   -0.001</td> <td> 0.999</td> <td> -215.081</td> <td>  214.937</td>\n",
       "</tr>\n",
       "<tr>\n",
       "  <th>ar.L13</th>   <td>   -0.0025</td> <td>   94.164</td> <td>-2.65e-05</td> <td> 1.000</td> <td> -184.561</td> <td>  184.556</td>\n",
       "</tr>\n",
       "<tr>\n",
       "  <th>ma.L1</th>    <td>   -0.8672</td> <td>        0</td> <td>     -inf</td> <td> 0.000</td> <td>   -0.867</td> <td>   -0.867</td>\n",
       "</tr>\n",
       "<tr>\n",
       "  <th>ar.S.L72</th> <td>    0.6631</td> <td>   62.886</td> <td>    0.011</td> <td> 0.992</td> <td> -122.592</td> <td>  123.918</td>\n",
       "</tr>\n",
       "<tr>\n",
       "  <th>sigma2</th>   <td>  206.1320</td> <td> 1.14e-09</td> <td>  1.8e+11</td> <td> 0.000</td> <td>  206.132</td> <td>  206.132</td>\n",
       "</tr>\n",
       "</table>\n",
       "<table class=\"simpletable\">\n",
       "<tr>\n",
       "  <th>Ljung-Box (Q):</th>          <td>66.18</td> <th>  Jarque-Bera (JB):  </th> <td>364.32</td>\n",
       "</tr>\n",
       "<tr>\n",
       "  <th>Prob(Q):</th>                <td>0.01</td>  <th>  Prob(JB):          </th>  <td>0.00</td> \n",
       "</tr>\n",
       "<tr>\n",
       "  <th>Heteroskedasticity (H):</th> <td>0.97</td>  <th>  Skew:              </th>  <td>0.41</td> \n",
       "</tr>\n",
       "<tr>\n",
       "  <th>Prob(H) (two-sided):</th>    <td>0.77</td>  <th>  Kurtosis:          </th>  <td>5.27</td> \n",
       "</tr>\n",
       "</table>"
      ],
      "text/plain": [
       "<class 'statsmodels.iolib.summary.Summary'>\n",
       "\"\"\"\n",
       "                                  Statespace Model Results                                 \n",
       "===========================================================================================\n",
       "Dep. Variable:                                   y   No. Observations:                 1583\n",
       "Model:             SARIMAX(13, 0, 1)x(1, 0, 0, 72)   Log Likelihood               -6090.993\n",
       "Date:                             Thu, 25 May 2017   AIC                          12213.986\n",
       "Time:                                     22:40:51   BIC                          12299.859\n",
       "Sample:                                          0   HQIC                         12245.891\n",
       "                                            - 1583                                         \n",
       "Covariance Type:                               opg                                         \n",
       "==============================================================================\n",
       "                 coef    std err          z      P>|z|      [0.025      0.975]\n",
       "------------------------------------------------------------------------------\n",
       "ar.L1          1.4822     66.239      0.022      0.982    -128.343     131.307\n",
       "ar.L2         -0.2654     90.494     -0.003      0.998    -177.631     177.100\n",
       "ar.L3         -0.1342     95.804     -0.001      0.999    -187.907     187.639\n",
       "ar.L4         -0.0073    103.187  -7.06e-05      1.000    -202.251     202.236\n",
       "ar.L5         -0.1559    102.088     -0.002      0.999    -200.245     199.933\n",
       "ar.L6          0.1236    104.357      0.001      0.999    -204.412     204.659\n",
       "ar.L7         -0.1824     98.802     -0.002      0.999    -193.830     193.465\n",
       "ar.L8          0.0526    103.200      0.001      1.000    -202.215     202.320\n",
       "ar.L9          0.0891    104.117      0.001      0.999    -203.976     204.155\n",
       "ar.L10         0.0538    107.853      0.000      1.000    -211.335     211.443\n",
       "ar.L11        -0.0103    108.939  -9.43e-05      1.000    -213.527     213.506\n",
       "ar.L12        -0.0716    109.700     -0.001      0.999    -215.081     214.937\n",
       "ar.L13        -0.0025     94.164  -2.65e-05      1.000    -184.561     184.556\n",
       "ma.L1         -0.8672          0       -inf      0.000      -0.867      -0.867\n",
       "ar.S.L72       0.6631     62.886      0.011      0.992    -122.592     123.918\n",
       "sigma2       206.1320   1.14e-09    1.8e+11      0.000     206.132     206.132\n",
       "===================================================================================\n",
       "Ljung-Box (Q):                       66.18   Jarque-Bera (JB):               364.32\n",
       "Prob(Q):                              0.01   Prob(JB):                         0.00\n",
       "Heteroskedasticity (H):               0.97   Skew:                             0.41\n",
       "Prob(H) (two-sided):                  0.77   Kurtosis:                         5.27\n",
       "===================================================================================\n",
       "\n",
       "Warnings:\n",
       "[1] Covariance matrix calculated using the outer product of gradients (complex-step).\n",
       "[2] Covariance matrix is singular or near-singular, with condition number 2.25e+54. Standard errors may be unstable.\n",
       "\"\"\""
      ]
     },
     "execution_count": 36,
     "metadata": {},
     "output_type": "execute_result"
    }
   ],
   "source": [
    "results.summary()"
   ]
  },
  {
   "cell_type": "code",
   "execution_count": null,
   "metadata": {
    "collapsed": true
   },
   "outputs": [],
   "source": []
  }
 ],
 "metadata": {
  "anaconda-cloud": {},
  "kernelspec": {
   "display_name": "Python [default]",
   "language": "python",
   "name": "python3"
  },
  "language_info": {
   "codemirror_mode": {
    "name": "ipython",
    "version": 3
   },
   "file_extension": ".py",
   "mimetype": "text/x-python",
   "name": "python",
   "nbconvert_exporter": "python",
   "pygments_lexer": "ipython3",
   "version": "3.5.2"
  }
 },
 "nbformat": 4,
 "nbformat_minor": 2
}
