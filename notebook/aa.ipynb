{
 "cells": [
  {
   "cell_type": "code",
   "execution_count": 1,
   "metadata": {
    "collapsed": true
   },
   "outputs": [],
   "source": [
    "# Python\n",
    "import pandas as pd\n",
    "import numpy as np\n",
    "from fbprophet import Prophet\n",
    "# Data process\n",
    "import pandas as pd\n",
    "import numpy as np\n",
    "from sklearn.linear_model import LinearRegression, Lasso, Ridge, MultiTaskLassoCV, MultiTaskElasticNetCV,LassoCV\n",
    "from sklearn.neural_network import MLPRegressor\n",
    "from sklearn.metrics import mean_absolute_error\n",
    "from sklearn.ensemble import BaggingRegressor, AdaBoostRegressor, RandomForestRegressor, GradientBoostingRegressor\n",
    "from sklearn.tree import ExtraTreeRegressor\n",
    "from sklearn.multioutput import MultiOutputRegressor\n",
    "from sklearn.svm import SVR\n",
    "# Visualisation\n",
    "import matplotlib as mpl\n",
    "import matplotlib.pyplot as plt\n",
    "import matplotlib.pylab as pylab\n",
    "import seaborn as sns\n",
    "import plotly.plotly as py\n",
    "import plotly.graph_objs as go\n",
    "# Other\n",
    "import datetime\n",
    "import pickle\n",
    "from plotly_utils.utils import get_plotly_fig\n",
    "\n",
    "%matplotlib inline\n",
    "pylab.rcParams['figure.figsize'] = 18, 6"
   ]
  },
  {
   "cell_type": "code",
   "execution_count": 2,
   "metadata": {
    "collapsed": true
   },
   "outputs": [],
   "source": [
    "def MAPE(y_predict, y_true):\n",
    "    return np.mean(np.abs(y_predict - y_true) / y_true)"
   ]
  },
  {
   "cell_type": "code",
   "execution_count": 3,
   "metadata": {
    "collapsed": false
   },
   "outputs": [],
   "source": [
    "task2_dataset = pickle.load(open('dataset.pkl', 'rb'))\n",
    "X = task2_dataset['X_train']\n",
    "X_test = task2_dataset['X_test']\n",
    "y_train = task2_dataset['y_train']\n",
    "\n",
    "X_train = X[:'2016-10-15 7:40']\n",
    "X_valid = X.loc[pd.to_datetime([\n",
    "    '2016-10-15 17:00',\n",
    "    '2016-10-15 8:00',\n",
    "    '2016-10-16 17:00',\n",
    "    '2016-10-16 8:00',\n",
    "    '2016-10-17 17:00',\n",
    "    '2016-10-17 8:00']\n",
    ")]\n",
    "\n",
    "full_X = pd.concat([X, X_test])\n",
    "full_X = full_X.swaplevel(0, 1, 1).sort_index(1)\n",
    "y_train = y_train.swaplevel(0, 1, 1).sort_index(1)\n",
    "\n",
    "full_X.columns = ['.'.join(col).strip() for col in full_X.columns.values]\n",
    "y_train.columns = ['.'.join(col).strip() for col in y_train.columns.values]"
   ]
  },
  {
   "cell_type": "code",
   "execution_count": 233,
   "metadata": {
    "collapsed": false
   },
   "outputs": [],
   "source": [
    "full_X = np.log(full_X+1)\n",
    "y_train = np.log(y_train+1)"
   ]
  },
  {
   "cell_type": "code",
   "execution_count": 4,
   "metadata": {
    "collapsed": false
   },
   "outputs": [],
   "source": [
    "BeforeNationalDay = (\n",
    "    datetime.date(2016, 9, 30),\n",
    ")\n",
    "\n",
    "NationalDayFront = (\n",
    "    datetime.date(2016, 10, 1),\n",
    "    datetime.date(2016, 10, 2),\n",
    "    datetime.date(2016, 10, 3),\n",
    "    datetime.date(2016, 10, 4),\n",
    ")\n",
    "\n",
    "NationalDayTail = (\n",
    "    datetime.date(2016, 10, 5),\n",
    "    datetime.date(2016, 10, 6),\n",
    "    datetime.date(2016, 10, 7)\n",
    ")\n",
    "\n",
    "WorkingWeekend = (\n",
    "    datetime.date(2016, 9, 18),\n",
    "    datetime.date(2016, 10, 8),\n",
    "    datetime.date(2016, 10, 9)\n",
    ")\n",
    "\n",
    "\n",
    "def get_day(date):\n",
    "    dayofweek = date.dayofweek\n",
    "    date = date.date()\n",
    "    if date in BeforeNationalDay:\n",
    "        return \"BeforeNationalDay\"\n",
    "    if date in NationalDayFront:\n",
    "        return \"NationalDayFront(1-4)\"\n",
    "    if date in NationalDayTail:\n",
    "        return \"NationalDayTail(5-7)\"\n",
    "    if date in WorkingWeekend:\n",
    "        return \"WorkingWeekend\"\n",
    "    if dayofweek in (0, 1, 2, 3, 4):\n",
    "        return \"WorkingDay\"\n",
    "    else:\n",
    "        return \"Weekend\"\n",
    "\n",
    "\n",
    "# DayTypeDummies\n",
    "dayTypeDummies = pd.get_dummies(full_X.index.map(get_day))\n",
    "dayTypeDummies.index = full_X.index\n",
    "full_X = full_X.join(dayTypeDummies)\n",
    "\n",
    "# HourDummies\n",
    "hours = full_X.index.map(lambda dt: dt.hour)\n",
    "hourDummies = pd.get_dummies(hours, prefix='Hour')\n",
    "hourDummies.index = full_X.index\n",
    "full_X = full_X.join(hourDummies)\n",
    "\n",
    "weather = pd.read_pickle('../datasets/weather_feature.pkl')\n",
    "weather = weather.loc[full_X.index].fillna(0)[['Heavy rain', 'Light rain', 'Rain', 'Sunny']].astype(int)\n",
    "full_X = full_X.join(weather)"
   ]
  },
  {
   "cell_type": "code",
   "execution_count": null,
   "metadata": {
    "collapsed": false
   },
   "outputs": [],
   "source": [
    "sns.pairplot(full_X)"
   ]
  },
  {
   "cell_type": "code",
   "execution_count": 140,
   "metadata": {
    "collapsed": true
   },
   "outputs": [],
   "source": [
    "from sklearn.neighbors import KNeighborsRegressor\n",
    "from sklearn.ensemble import BaggingRegressor,AdaBoostRegressor,ExtraTreesRegressor,GradientBoostingRegressor"
   ]
  },
  {
   "cell_type": "code",
   "execution_count": null,
   "metadata": {
    "collapsed": false,
    "scrolled": false
   },
   "outputs": [],
   "source": [
    "model = MultiOutputRegressor(GradientBoostingRegressor(\n",
    "    n_estimators=100, learning_rate=0.1,     max_depth=2, random_state=0, loss='ls'))\n",
    "X_train_value = full_X.loc[X_train.index]\n",
    "y_train_value = y_train.loc[X_train.index].iloc[:, 6:12]\n",
    "\n",
    "X_valid_value = full_X.loc[X_valid.index]\n",
    "y_valid_value = y_train.loc[X_valid.index].iloc[:, 6:12]\n",
    "model.fit(X_train_value, y_train_value)\n",
    "\n",
    "\n",
    "np.mean(np.abs(model.predict(X_valid_value).astype(\n",
    "    int) - y_valid_value.values) / y_valid_value.values)"
   ]
  },
  {
   "cell_type": "code",
   "execution_count": 176,
   "metadata": {
    "collapsed": false
   },
   "outputs": [],
   "source": [
    "predcit =pd.DataFrame(data,index=full_X.iloc[-14:,].index,columns=y_train.columns)"
   ]
  },
  {
   "cell_type": "code",
   "execution_count": 178,
   "metadata": {
    "collapsed": false
   },
   "outputs": [],
   "source": [
    "predcit.to_excel('predict.xls')"
   ]
  },
  {
   "cell_type": "code",
   "execution_count": null,
   "metadata": {
    "collapsed": true
   },
   "outputs": [],
   "source": []
  }
 ],
 "metadata": {
  "anaconda-cloud": {},
  "kernelspec": {
   "display_name": "Python [default]",
   "language": "python",
   "name": "python3"
  },
  "language_info": {
   "codemirror_mode": {
    "name": "ipython",
    "version": 3
   },
   "file_extension": ".py",
   "mimetype": "text/x-python",
   "name": "python",
   "nbconvert_exporter": "python",
   "pygments_lexer": "ipython3",
   "version": "3.5.2"
  }
 },
 "nbformat": 4,
 "nbformat_minor": 2
}
