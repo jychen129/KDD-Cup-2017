{
 "cells": [
  {
   "cell_type": "code",
   "execution_count": 1,
   "metadata": {
    "collapsed": true
   },
   "outputs": [],
   "source": [
    "# Ignore warnings\n",
    "import warnings\n",
    "warnings.filterwarnings('ignore')\n",
    "\n",
    "# Handle table-like data and matrices\n",
    "import numpy as np\n",
    "import pandas as pd\n",
    "from pandas import DataFrame,Series\n",
    "import csv\n",
    "import pprint\n",
    "\n",
    "# Visualisation\n",
    "import matplotlib as mpl\n",
    "import matplotlib.pyplot as plt\n",
    "import matplotlib.pylab as pylab\n",
    "import seaborn as sns\n",
    "\n",
    "# Others\n",
    "import math\n",
    "from datetime import datetime,timedelta\n",
    "\n",
    "# Configure visualisations\n",
    "%matplotlib inline\n",
    "mpl.style.use( 'ggplot' )\n",
    "sns.set_style( 'white' )\n",
    "pylab.rcParams[ 'figure.figsize' ] = 8 , 6"
   ]
  },
  {
   "cell_type": "code",
   "execution_count": 80,
   "metadata": {
    "collapsed": true
   },
   "outputs": [],
   "source": [
    "links = pd.read_csv('datas/train/links_(table_3).csv')\n",
    "links = links.set_index('link_id')\n",
    "routes = pd.read_csv('datas/train/routes_(table_4).csv')"
   ]
  },
  {
   "cell_type": "code",
   "execution_count": 98,
   "metadata": {
    "collapsed": false
   },
   "outputs": [
    {
     "data": {
      "text/html": [
       "<div>\n",
       "<table border=\"1\" class=\"dataframe\">\n",
       "  <thead>\n",
       "    <tr style=\"text-align: right;\">\n",
       "      <th></th>\n",
       "      <th>length</th>\n",
       "      <th>width</th>\n",
       "      <th>lanes</th>\n",
       "      <th>in_top</th>\n",
       "      <th>out_top</th>\n",
       "      <th>lane_width</th>\n",
       "    </tr>\n",
       "    <tr>\n",
       "      <th>link_id</th>\n",
       "      <th></th>\n",
       "      <th></th>\n",
       "      <th></th>\n",
       "      <th></th>\n",
       "      <th></th>\n",
       "      <th></th>\n",
       "    </tr>\n",
       "  </thead>\n",
       "  <tbody>\n",
       "    <tr>\n",
       "      <th>100</th>\n",
       "      <td>58</td>\n",
       "      <td>3</td>\n",
       "      <td>1</td>\n",
       "      <td>105</td>\n",
       "      <td>111</td>\n",
       "      <td>3</td>\n",
       "    </tr>\n",
       "    <tr>\n",
       "      <th>101</th>\n",
       "      <td>84</td>\n",
       "      <td>3</td>\n",
       "      <td>1</td>\n",
       "      <td>116</td>\n",
       "      <td>121</td>\n",
       "      <td>3</td>\n",
       "    </tr>\n",
       "    <tr>\n",
       "      <th>102</th>\n",
       "      <td>131</td>\n",
       "      <td>9</td>\n",
       "      <td>3</td>\n",
       "      <td>115</td>\n",
       "      <td>109</td>\n",
       "      <td>3</td>\n",
       "    </tr>\n",
       "    <tr>\n",
       "      <th>103</th>\n",
       "      <td>23</td>\n",
       "      <td>12</td>\n",
       "      <td>4</td>\n",
       "      <td>111</td>\n",
       "      <td>122,116</td>\n",
       "      <td>3</td>\n",
       "    </tr>\n",
       "    <tr>\n",
       "      <th>104</th>\n",
       "      <td>293</td>\n",
       "      <td>9</td>\n",
       "      <td>3</td>\n",
       "      <td>109</td>\n",
       "      <td>112</td>\n",
       "      <td>3</td>\n",
       "    </tr>\n",
       "  </tbody>\n",
       "</table>\n",
       "</div>"
      ],
      "text/plain": [
       "         length  width  lanes in_top  out_top  lane_width\n",
       "link_id                                                  \n",
       "100          58      3      1    105      111           3\n",
       "101          84      3      1    116      121           3\n",
       "102         131      9      3    115      109           3\n",
       "103          23     12      4    111  122,116           3\n",
       "104         293      9      3    109      112           3"
      ]
     },
     "execution_count": 98,
     "metadata": {},
     "output_type": "execute_result"
    }
   ],
   "source": [
    "links.head()"
   ]
  },
  {
   "cell_type": "code",
   "execution_count": 81,
   "metadata": {
    "collapsed": false
   },
   "outputs": [],
   "source": [
    "links_dict = links.to_dict('index')"
   ]
  },
  {
   "cell_type": "code",
   "execution_count": 12,
   "metadata": {
    "collapsed": true
   },
   "outputs": [],
   "source": [
    "link_trajectories = pd.read_csv('training_20min_avg_travel_time.csv')\n",
    "link_trajectories.time_window = link_trajectories.time_window.map(lambda s:s[1:20])\n",
    "link_trajectories['avg_travel_flow'] = link_trajectories.sum_travel_time / (20*60)\n",
    "link_trajectories[\"route\"] = link_trajectories.intersection_id.map(str) + '->'+ link_trajectories.tollgate_id.map(str)"
   ]
  },
  {
   "cell_type": "code",
   "execution_count": 36,
   "metadata": {
    "collapsed": false
   },
   "outputs": [
    {
     "data": {
      "text/html": [
       "<div>\n",
       "<table border=\"1\" class=\"dataframe\">\n",
       "  <thead>\n",
       "    <tr style=\"text-align: right;\">\n",
       "      <th></th>\n",
       "      <th>intersection_id</th>\n",
       "      <th>tollgate_id</th>\n",
       "      <th>time_window</th>\n",
       "      <th>avg_travel_time</th>\n",
       "      <th>sum_travel_time</th>\n",
       "      <th>avg_travel_flow</th>\n",
       "      <th>route</th>\n",
       "    </tr>\n",
       "  </thead>\n",
       "  <tbody>\n",
       "    <tr>\n",
       "      <th>0</th>\n",
       "      <td>B</td>\n",
       "      <td>3</td>\n",
       "      <td>2016-07-19 00:00:00</td>\n",
       "      <td>70.85</td>\n",
       "      <td>70.85</td>\n",
       "      <td>0.059042</td>\n",
       "      <td>B-&gt;3</td>\n",
       "    </tr>\n",
       "    <tr>\n",
       "      <th>1</th>\n",
       "      <td>B</td>\n",
       "      <td>3</td>\n",
       "      <td>2016-07-19 00:20:00</td>\n",
       "      <td>148.79</td>\n",
       "      <td>148.79</td>\n",
       "      <td>0.123992</td>\n",
       "      <td>B-&gt;3</td>\n",
       "    </tr>\n",
       "    <tr>\n",
       "      <th>2</th>\n",
       "      <td>B</td>\n",
       "      <td>3</td>\n",
       "      <td>2016-07-19 01:40:00</td>\n",
       "      <td>93.72</td>\n",
       "      <td>187.44</td>\n",
       "      <td>0.156200</td>\n",
       "      <td>B-&gt;3</td>\n",
       "    </tr>\n",
       "    <tr>\n",
       "      <th>3</th>\n",
       "      <td>B</td>\n",
       "      <td>3</td>\n",
       "      <td>2016-07-19 02:00:00</td>\n",
       "      <td>67.81</td>\n",
       "      <td>67.81</td>\n",
       "      <td>0.056508</td>\n",
       "      <td>B-&gt;3</td>\n",
       "    </tr>\n",
       "    <tr>\n",
       "      <th>4</th>\n",
       "      <td>B</td>\n",
       "      <td>3</td>\n",
       "      <td>2016-07-19 02:40:00</td>\n",
       "      <td>167.55</td>\n",
       "      <td>335.09</td>\n",
       "      <td>0.279242</td>\n",
       "      <td>B-&gt;3</td>\n",
       "    </tr>\n",
       "  </tbody>\n",
       "</table>\n",
       "</div>"
      ],
      "text/plain": [
       "  intersection_id  tollgate_id          time_window  avg_travel_time  \\\n",
       "0               B            3  2016-07-19 00:00:00            70.85   \n",
       "1               B            3  2016-07-19 00:20:00           148.79   \n",
       "2               B            3  2016-07-19 01:40:00            93.72   \n",
       "3               B            3  2016-07-19 02:00:00            67.81   \n",
       "4               B            3  2016-07-19 02:40:00           167.55   \n",
       "\n",
       "   sum_travel_time  avg_travel_flow route  \n",
       "0            70.85         0.059042  B->3  \n",
       "1           148.79         0.123992  B->3  \n",
       "2           187.44         0.156200  B->3  \n",
       "3            67.81         0.056508  B->3  \n",
       "4           335.09         0.279242  B->3  "
      ]
     },
     "execution_count": 36,
     "metadata": {},
     "output_type": "execute_result"
    }
   ],
   "source": [
    "link_trajectories.head()"
   ]
  },
  {
   "cell_type": "code",
   "execution_count": 41,
   "metadata": {
    "collapsed": false
   },
   "outputs": [
    {
     "data": {
      "text/plain": [
       "['110', '123', '107', '108', '120', '117']"
      ]
     },
     "execution_count": 41,
     "metadata": {},
     "output_type": "execute_result"
    }
   ],
   "source": [
    "routes.link_seq[0].split(',')"
   ]
  },
  {
   "cell_type": "code",
   "execution_count": 92,
   "metadata": {
    "collapsed": false
   },
   "outputs": [],
   "source": [
    "routes['length'] = routes.link_seq.map(lambda s: sum(map(lambda x:links_dict[int(x)]['length'],s.split(','))))"
   ]
  },
  {
   "cell_type": "code",
   "execution_count": 96,
   "metadata": {
    "collapsed": false
   },
   "outputs": [],
   "source": [
    "routes['route'] =routes.intersection_id.map(str)+'->'+routes.tollgate_id.map(str)"
   ]
  },
  {
   "cell_type": "code",
   "execution_count": 100,
   "metadata": {
    "collapsed": false
   },
   "outputs": [
    {
     "data": {
      "text/html": [
       "<div>\n",
       "<table border=\"1\" class=\"dataframe\">\n",
       "  <thead>\n",
       "    <tr style=\"text-align: right;\">\n",
       "      <th></th>\n",
       "      <th>intersection_id</th>\n",
       "      <th>tollgate_id</th>\n",
       "      <th>link_seq</th>\n",
       "      <th>length</th>\n",
       "      <th>route</th>\n",
       "    </tr>\n",
       "  </thead>\n",
       "  <tbody>\n",
       "    <tr>\n",
       "      <th>0</th>\n",
       "      <td>A</td>\n",
       "      <td>2</td>\n",
       "      <td>110,123,107,108,120,117</td>\n",
       "      <td>384</td>\n",
       "      <td>A-&gt;2</td>\n",
       "    </tr>\n",
       "    <tr>\n",
       "      <th>1</th>\n",
       "      <td>A</td>\n",
       "      <td>3</td>\n",
       "      <td>110,123,107,108,119,114,118,122</td>\n",
       "      <td>852</td>\n",
       "      <td>A-&gt;3</td>\n",
       "    </tr>\n",
       "    <tr>\n",
       "      <th>2</th>\n",
       "      <td>B</td>\n",
       "      <td>1</td>\n",
       "      <td>105,100,111,103,116,101,121,106,113</td>\n",
       "      <td>821</td>\n",
       "      <td>B-&gt;1</td>\n",
       "    </tr>\n",
       "    <tr>\n",
       "      <th>3</th>\n",
       "      <td>B</td>\n",
       "      <td>3</td>\n",
       "      <td>105,100,111,103,122</td>\n",
       "      <td>477</td>\n",
       "      <td>B-&gt;3</td>\n",
       "    </tr>\n",
       "    <tr>\n",
       "      <th>4</th>\n",
       "      <td>C</td>\n",
       "      <td>1</td>\n",
       "      <td>115,102,109,104,112,111,103,116,101,121,106,113</td>\n",
       "      <td>1550</td>\n",
       "      <td>C-&gt;1</td>\n",
       "    </tr>\n",
       "    <tr>\n",
       "      <th>5</th>\n",
       "      <td>C</td>\n",
       "      <td>3</td>\n",
       "      <td>115,102,109,104,112,111,103,122</td>\n",
       "      <td>1206</td>\n",
       "      <td>C-&gt;3</td>\n",
       "    </tr>\n",
       "  </tbody>\n",
       "</table>\n",
       "</div>"
      ],
      "text/plain": [
       "  intersection_id  tollgate_id  \\\n",
       "0               A            2   \n",
       "1               A            3   \n",
       "2               B            1   \n",
       "3               B            3   \n",
       "4               C            1   \n",
       "5               C            3   \n",
       "\n",
       "                                          link_seq  length route  \n",
       "0                          110,123,107,108,120,117     384  A->2  \n",
       "1                  110,123,107,108,119,114,118,122     852  A->3  \n",
       "2              105,100,111,103,116,101,121,106,113     821  B->1  \n",
       "3                              105,100,111,103,122     477  B->3  \n",
       "4  115,102,109,104,112,111,103,116,101,121,106,113    1550  C->1  \n",
       "5                  115,102,109,104,112,111,103,122    1206  C->3  "
      ]
     },
     "execution_count": 100,
     "metadata": {},
     "output_type": "execute_result"
    }
   ],
   "source": [
    "routes"
   ]
  },
  {
   "cell_type": "code",
   "execution_count": 124,
   "metadata": {
    "collapsed": false
   },
   "outputs": [],
   "source": [
    "speeds = []\n",
    "for index,row in link_trajectories.iterrows():\n",
    "    speeds.append( (routes_length[row['route']]) / row['avg_travel_time'] )"
   ]
  },
  {
   "cell_type": "code",
   "execution_count": 117,
   "metadata": {
    "collapsed": false
   },
   "outputs": [],
   "source": [
    "routes_length = routes.set_index('route')['length'].to_dict()"
   ]
  },
  {
   "cell_type": "code",
   "execution_count": 125,
   "metadata": {
    "collapsed": true
   },
   "outputs": [],
   "source": [
    "link_trajectories['speed'] = speeds"
   ]
  },
  {
   "cell_type": "code",
   "execution_count": 321,
   "metadata": {
    "collapsed": false
   },
   "outputs": [
    {
     "data": {
      "text/plain": [
       "<matplotlib.axes._subplots.AxesSubplot at 0x7f8930df29b0>"
      ]
     },
     "execution_count": 321,
     "metadata": {},
     "output_type": "execute_result"
    },
    {
     "data": {
      "image/png": "[encoded data removed]",
      "text/plain": [
       "<matplotlib.figure.Figure at 0x7f8930debfd0>"
      ]
     },
     "metadata": {},
     "output_type": "display_data"
    }
   ],
   "source": [
    "link_trajectories[link_trajectories.route== 'B->1'].plot(x='avg_travel_flow',y='speed',kind='scatter')"
   ]
  },
  {
   "cell_type": "code",
   "execution_count": 370,
   "metadata": {
    "collapsed": false
   },
   "outputs": [],
   "source": [
    "X = link_trajectories[link_trajectories.route== 'B->1'].avg_travel_flow.values\n",
    "y = link_trajectories[link_trajectories.route== 'B->1'].speed.values\n",
    "X_t = 1/X\n",
    "y_t = y"
   ]
  },
  {
   "cell_type": "code",
   "execution_count": 378,
   "metadata": {
    "collapsed": false,
    "scrolled": true
   },
   "outputs": [
    {
     "data": {
      "text/plain": [
       "[<matplotlib.lines.Line2D at 0x7f893044ecc0>]"
      ]
     },
     "execution_count": 378,
     "metadata": {},
     "output_type": "execute_result"
    },
    {
     "data": {
      "image/png": "[encoded data removed]",
      "text/plain": [
       "<matplotlib.figure.Figure at 0x7f893044e4e0>"
      ]
     },
     "metadata": {},
     "output_type": "display_data"
    }
   ],
   "source": [
    "plt.scatter(X,y)\n",
    "plt.plot(np.arange(0,3,0.01),predicted_y)"
   ]
  },
  {
   "cell_type": "code",
   "execution_count": 323,
   "metadata": {
    "collapsed": false
   },
   "outputs": [],
   "source": [
    "from scipy import optimize"
   ]
  },
  {
   "cell_type": "code",
   "execution_count": 372,
   "metadata": {
    "collapsed": false
   },
   "outputs": [],
   "source": [
    "def fn(x,a,b):\n",
    "    return a*(1/x) + b\n",
    "\n",
    "fita,fitb=optimize.curve_fit(fn,X,y,[1,1])"
   ]
  },
  {
   "cell_type": "code",
   "execution_count": 377,
   "metadata": {
    "collapsed": false
   },
   "outputs": [],
   "source": [
    "predicted_y = fn(np.arange(0,3,0.01), 0.41076187,  4.43621192)"
   ]
  },
  {
   "cell_type": "code",
   "execution_count": 373,
   "metadata": {
    "collapsed": false
   },
   "outputs": [
    {
     "data": {
      "text/plain": [
       "array([ 0.41076187,  4.43621192])"
      ]
     },
     "execution_count": 373,
     "metadata": {},
     "output_type": "execute_result"
    }
   ],
   "source": [
    "fita"
   ]
  },
  {
   "cell_type": "code",
   "execution_count": 380,
   "metadata": {
    "collapsed": false
   },
   "outputs": [],
   "source": [
    "link_trajectories.to_csv('traffic_flow.csv',index=False)"
   ]
  },
  {
   "cell_type": "code",
   "execution_count": 383,
   "metadata": {
    "collapsed": false
   },
   "outputs": [],
   "source": [
    "link_trajectories[['route','time_window','avg_travel_flow','speed']].to_json('traffic_flow_route.json',orient='records')"
   ]
  },
  {
   "cell_type": "code",
   "execution_count": 385,
   "metadata": {
    "collapsed": false
   },
   "outputs": [
    {
     "data": {
      "text/plain": [
       "array(['B->3', 'B->1', 'A->3', 'A->2', 'C->3', 'C->1'], dtype=object)"
      ]
     },
     "execution_count": 385,
     "metadata": {},
     "output_type": "execute_result"
    }
   ],
   "source": [
    "link_trajectories.route.unique()"
   ]
  },
  {
   "cell_type": "code",
   "execution_count": null,
   "metadata": {
    "collapsed": true
   },
   "outputs": [],
   "source": []
  }
 ],
 "metadata": {
  "anaconda-cloud": {},
  "kernelspec": {
   "display_name": "Python [default]",
   "language": "python",
   "name": "python3"
  },
  "language_info": {
   "codemirror_mode": {
    "name": "ipython",
    "version": 3
   },
   "file_extension": ".py",
   "mimetype": "text/x-python",
   "name": "python",
   "nbconvert_exporter": "python",
   "pygments_lexer": "ipython3",
   "version": "3.5.2"
  }
 },
 "nbformat": 4,
 "nbformat_minor": 2
}
