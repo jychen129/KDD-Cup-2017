{
 "cells": [
  {
   "cell_type": "code",
   "execution_count": 35,
   "metadata": {
    "collapsed": true
   },
   "outputs": [],
   "source": [
    "# Ignore warnings\n",
    "import warnings\n",
    "warnings.filterwarnings('ignore')\n",
    "\n",
    "# Handle table-like data and matrices\n",
    "import numpy as np\n",
    "import pandas as pd\n",
    "from pandas import DataFrame, Series\n",
    "\n",
    "\n",
    "from sklearn.linear_model import LinearRegression, Lasso, Ridge\n",
    "from sklearn.metrics import mean_absolute_error\n",
    "from sklearn.ensemble import BaggingRegressor, AdaBoostRegressor\n",
    "from sklearn.svm import SVR\n",
    "\n",
    "# Visualisation\n",
    "import matplotlib as mpl\n",
    "import matplotlib.pyplot as plt\n",
    "import matplotlib.pylab as pylab\n",
    "import seaborn as sns\n",
    "\n",
    "# Others\n",
    "from datetime import datetime\n",
    "\n",
    "\n",
    "from __future__ import print_function\n",
    "import numpy as np\n",
    "from scipy import stats\n",
    "import matplotlib.pyplot as plt\n",
    "import statsmodels.api as sm\n",
    "from statsmodels.graphics.api import qqplot\n",
    "\n",
    "# Configure visualisations\n",
    "%matplotlib inline\n",
    "mpl.style.use('ggplot')\n",
    "sns.set_style('white')\n",
    "pylab.rcParams['figure.figsize'] = 8, 6"
   ]
  },
  {
   "cell_type": "code",
   "execution_count": 36,
   "metadata": {
    "collapsed": true
   },
   "outputs": [],
   "source": [
    "def mean_absolute_percentage_error(y_true, y_pred):\n",
    "    y_pred = y_pred[y_true != 0]\n",
    "    y_true = y_true[y_true != 0]\n",
    "    return np.mean(np.abs((y_true - y_pred) / y_true))"
   ]
  },
  {
   "cell_type": "code",
   "execution_count": 3,
   "metadata": {
    "collapsed": false
   },
   "outputs": [],
   "source": [
    "full_df = pd.read_pickle('../datasets/new_full_task2.pkl')"
   ]
  },
  {
   "cell_type": "code",
   "execution_count": 15,
   "metadata": {
    "collapsed": false
   },
   "outputs": [],
   "source": [
    "full_df['Time'] = list(map(lambda x: str(x)[:-3], full_df.index.time))"
   ]
  },
  {
   "cell_type": "code",
   "execution_count": 149,
   "metadata": {
    "collapsed": false
   },
   "outputs": [],
   "source": [
    "lags = ['AR.L1', 'AR.L2', 'AR.L3', 'S72.L1', 'S72.L2', 'S72.L3']\n",
    "\n",
    "for column in full_df[full_df.columns[:5]]:\n",
    "    series = full_df[column]\n",
    "    lag_data = list([series.shift(s) for s in [1, 2, 3, 15, 16, 17]])\n",
    "    column_lags = [column + '.' + lag for lag in lags]\n",
    "    df = pd.DataFrame(dict(zip(column_lags, lag_data)))\n",
    "    full_df = full_df.join(df)"
   ]
  },
  {
   "cell_type": "code",
   "execution_count": 151,
   "metadata": {
    "collapsed": false
   },
   "outputs": [
    {
     "data": {
      "text/plain": [
       "Index(['T1D0', 'T1D1', 'T2D0', 'T3D0', 'T3D1', 'HeavyRain', 'LightRain',\n",
       "       'Rain', 'Sunny', 'DayOfWeek', 'BeforeNationalDay',\n",
       "       'NationalDayFront(1-4)', 'NationalDayTail(5-7)', 'Weekend',\n",
       "       'WorkingDay', 'WorkingWeekend', 'Time', 'T1D0.AR.L1', 'T1D0.AR.L2',\n",
       "       'T1D0.AR.L3', 'T1D0.S72.L1', 'T1D0.S72.L2', 'T1D0.S72.L3', 'T1D1.AR.L1',\n",
       "       'T1D1.AR.L2', 'T1D1.AR.L3', 'T1D1.S72.L1', 'T1D1.S72.L2', 'T1D1.S72.L3',\n",
       "       'T2D0.AR.L1', 'T2D0.AR.L2', 'T2D0.AR.L3', 'T2D0.S72.L1', 'T2D0.S72.L2',\n",
       "       'T2D0.S72.L3', 'T3D0.AR.L1', 'T3D0.AR.L2', 'T3D0.AR.L3', 'T3D0.S72.L1',\n",
       "       'T3D0.S72.L2', 'T3D0.S72.L3', 'T3D1.AR.L1', 'T3D1.AR.L2', 'T3D1.AR.L3',\n",
       "       'T3D1.S72.L1', 'T3D1.S72.L2', 'T3D1.S72.L3'],\n",
       "      dtype='object')"
      ]
     },
     "execution_count": 151,
     "metadata": {},
     "output_type": "execute_result"
    }
   ],
   "source": [
    "full_df.columns"
   ]
  },
  {
   "cell_type": "code",
   "execution_count": 29,
   "metadata": {
    "collapsed": false
   },
   "outputs": [],
   "source": [
    "time_dummies = pd.get_dummies(full_df['Time'], prefix='Time')\n",
    "dayofweek_dummies = pd.get_dummies(full_df['DayOfWeek'], prefix='DayOfWeek')"
   ]
  },
  {
   "cell_type": "code",
   "execution_count": 301,
   "metadata": {
    "collapsed": false
   },
   "outputs": [],
   "source": [
    "full_df_train = full_df[:'2016-10-17'][['T1D0',  'HeavyRain', 'LightRain',\n",
    "                                        'Rain', 'Sunny',  'BeforeNationalDay',\n",
    "                                        'NationalDayFront(1-4)', 'NationalDayTail(5-7)', 'Weekend',\n",
    "                                        'WorkingDay', 'WorkingWeekend', ]]"
   ]
  },
  {
   "cell_type": "code",
   "execution_count": 302,
   "metadata": {
    "collapsed": false
   },
   "outputs": [],
   "source": [
    "full_df_train = full_df_train.join(time_dummies).join(dayofweek_dummies)"
   ]
  },
  {
   "cell_type": "code",
   "execution_count": 303,
   "metadata": {
    "collapsed": false
   },
   "outputs": [
    {
     "data": {
      "text/plain": [
       "Index(['T1D0', 'HeavyRain', 'LightRain', 'Rain', 'Sunny', 'BeforeNationalDay',\n",
       "       'NationalDayFront(1-4)', 'NationalDayTail(5-7)', 'Weekend',\n",
       "       'WorkingDay', 'WorkingWeekend', 'Time_00:00', 'Time_00:20',\n",
       "       'Time_00:40', 'Time_01:00', 'Time_01:20', 'Time_01:40', 'Time_02:00',\n",
       "       'Time_02:20', 'Time_02:40', 'Time_03:00', 'Time_03:20', 'Time_03:40',\n",
       "       'Time_04:00', 'Time_04:20', 'Time_04:40', 'Time_05:00', 'Time_05:20',\n",
       "       'Time_05:40', 'Time_06:00', 'Time_06:20', 'Time_06:40', 'Time_07:00',\n",
       "       'Time_07:20', 'Time_07:40', 'Time_08:00', 'Time_08:20', 'Time_08:40',\n",
       "       'Time_09:00', 'Time_09:20', 'Time_09:40', 'Time_10:00', 'Time_10:20',\n",
       "       'Time_10:40', 'Time_11:00', 'Time_11:20', 'Time_11:40', 'Time_12:00',\n",
       "       'Time_12:20', 'Time_12:40', 'Time_13:00', 'Time_13:20', 'Time_13:40',\n",
       "       'Time_14:00', 'Time_14:20', 'Time_14:40', 'Time_15:00', 'Time_15:20',\n",
       "       'Time_15:40', 'Time_16:00', 'Time_16:20', 'Time_16:40', 'Time_17:00',\n",
       "       'Time_17:20', 'Time_17:40', 'Time_18:00', 'Time_18:20', 'Time_18:40',\n",
       "       'Time_19:00', 'Time_19:20', 'Time_19:40', 'Time_20:00', 'Time_20:20',\n",
       "       'Time_20:40', 'Time_21:00', 'Time_21:20', 'Time_21:40', 'Time_22:00',\n",
       "       'Time_22:20', 'Time_22:40', 'Time_23:00', 'Time_23:20', 'Time_23:40',\n",
       "       'DayOfWeek_1.0', 'DayOfWeek_2.0', 'DayOfWeek_3.0', 'DayOfWeek_4.0',\n",
       "       'DayOfWeek_5.0', 'DayOfWeek_6.0', 'DayOfWeek_7.0'],\n",
       "      dtype='object')"
      ]
     },
     "execution_count": 303,
     "metadata": {},
     "output_type": "execute_result"
    }
   ],
   "source": [
    "full_df_train.columns"
   ]
  },
  {
   "cell_type": "code",
   "execution_count": 304,
   "metadata": {
    "collapsed": false
   },
   "outputs": [],
   "source": [
    "full_df_train['T1D0'] = np.log(full_df_train['T1D0'] + 1)"
   ]
  },
  {
   "cell_type": "code",
   "execution_count": 312,
   "metadata": {
    "collapsed": false
   },
   "outputs": [],
   "source": [
    "columns = full_df_train.columns.values"
   ]
  },
  {
   "cell_type": "code",
   "execution_count": 313,
   "metadata": {
    "collapsed": false
   },
   "outputs": [],
   "source": [
    "mean_dict = full_df_train.T1D0.groupby(full_df_train.index.time).mean().to_dict()"
   ]
  },
  {
   "cell_type": "code",
   "execution_count": 314,
   "metadata": {
    "collapsed": false
   },
   "outputs": [],
   "source": [
    "full_df_train['Mean'] = full_df_train.index.map(lambda dt:mean_dict[dt.time()])"
   ]
  },
  {
   "cell_type": "code",
   "execution_count": 361,
   "metadata": {
    "collapsed": false
   },
   "outputs": [],
   "source": [
    "train, test = full_df_train[:'2016-10-12'].fillna(\n",
    "    0), full_df_train['2016-10-13':].fillna(0)\n",
    "\n",
    "X_train = train[columns[1:]]\n",
    "y_train = train[columns[0]]\n",
    "\n",
    "X_test = test[columns[1:]].between_time('8:00', '10:00')\n",
    "y_test = test[columns[0]].between_time('8:00', '10:00')\n",
    "\n",
    "model = Lasso(alpha=0.00001)\n",
    "model.fit(X_train, y_train)\n",
    "y_train_predict = model.predict(X_train)\n",
    "y_test_predict = model.predict(X_test)\n",
    "\n",
    "\n",
    "train_mape = mean_absolute_percentage_error(\n",
    "    np.exp(y_train) - 1,\n",
    "    np.exp(y_train_predict) - 1\n",
    ")\n",
    "\n",
    "test_mape = mean_absolute_percentage_error(\n",
    "    np.exp(y_test) - 1,\n",
    "    np.exp(y_test_predict) - 1\n",
    ")"
   ]
  },
  {
   "cell_type": "code",
   "execution_count": 362,
   "metadata": {
    "collapsed": false
   },
   "outputs": [
    {
     "data": {
      "text/plain": [
       "<matplotlib.axes._subplots.AxesSubplot at 0x7fc6bc2ae438>"
      ]
     },
     "execution_count": 362,
     "metadata": {},
     "output_type": "execute_result"
    },
    {
     "data": {
      "image/png": "[encoded data removed]",
      "text/plain": [
       "<matplotlib.figure.Figure at 0x7fc67ed4f438>"
      ]
     },
     "metadata": {},
     "output_type": "display_data"
    }
   ],
   "source": [
    "abs(y_train_predict -\n",
    "    y_train).to_frame().sort_values(by=['T1D0']).groupby(y_train.index.time).mean().plot()"
   ]
  },
  {
   "cell_type": "code",
   "execution_count": 363,
   "metadata": {
    "collapsed": false
   },
   "outputs": [
    {
     "name": "stdout",
     "output_type": "stream",
     "text": [
      "0.3518344037873054\n",
      "0.18125645882328378\n"
     ]
    }
   ],
   "source": [
    "print(train_mape)\n",
    "print(test_mape)"
   ]
  },
  {
   "cell_type": "code",
   "execution_count": 364,
   "metadata": {
    "collapsed": false
   },
   "outputs": [
    {
     "data": {
      "text/html": [
       "<div>\n",
       "<table border=\"1\" class=\"dataframe\">\n",
       "  <thead>\n",
       "    <tr style=\"text-align: right;\">\n",
       "      <th></th>\n",
       "      <th>0</th>\n",
       "    </tr>\n",
       "  </thead>\n",
       "  <tbody>\n",
       "    <tr>\n",
       "      <th>Time_01:40</th>\n",
       "      <td>-0.480946</td>\n",
       "    </tr>\n",
       "    <tr>\n",
       "      <th>Time_02:00</th>\n",
       "      <td>-0.476635</td>\n",
       "    </tr>\n",
       "    <tr>\n",
       "      <th>Time_01:20</th>\n",
       "      <td>-0.474093</td>\n",
       "    </tr>\n",
       "    <tr>\n",
       "      <th>WorkingWeekend</th>\n",
       "      <td>-0.462890</td>\n",
       "    </tr>\n",
       "    <tr>\n",
       "      <th>Time_01:00</th>\n",
       "      <td>-0.451381</td>\n",
       "    </tr>\n",
       "    <tr>\n",
       "      <th>Time_02:20</th>\n",
       "      <td>-0.450323</td>\n",
       "    </tr>\n",
       "    <tr>\n",
       "      <th>Time_02:40</th>\n",
       "      <td>-0.442993</td>\n",
       "    </tr>\n",
       "    <tr>\n",
       "      <th>Time_03:20</th>\n",
       "      <td>-0.414555</td>\n",
       "    </tr>\n",
       "    <tr>\n",
       "      <th>Time_03:40</th>\n",
       "      <td>-0.406739</td>\n",
       "    </tr>\n",
       "    <tr>\n",
       "      <th>Time_03:00</th>\n",
       "      <td>-0.406605</td>\n",
       "    </tr>\n",
       "    <tr>\n",
       "      <th>Time_04:00</th>\n",
       "      <td>-0.403037</td>\n",
       "    </tr>\n",
       "    <tr>\n",
       "      <th>Time_23:40</th>\n",
       "      <td>-0.399819</td>\n",
       "    </tr>\n",
       "    <tr>\n",
       "      <th>Time_00:40</th>\n",
       "      <td>-0.380447</td>\n",
       "    </tr>\n",
       "    <tr>\n",
       "      <th>Time_23:20</th>\n",
       "      <td>-0.379110</td>\n",
       "    </tr>\n",
       "    <tr>\n",
       "      <th>Time_00:20</th>\n",
       "      <td>-0.373915</td>\n",
       "    </tr>\n",
       "    <tr>\n",
       "      <th>Time_23:00</th>\n",
       "      <td>-0.363248</td>\n",
       "    </tr>\n",
       "    <tr>\n",
       "      <th>Time_04:20</th>\n",
       "      <td>-0.345410</td>\n",
       "    </tr>\n",
       "    <tr>\n",
       "      <th>Time_05:00</th>\n",
       "      <td>-0.335142</td>\n",
       "    </tr>\n",
       "    <tr>\n",
       "      <th>Time_05:20</th>\n",
       "      <td>-0.317916</td>\n",
       "    </tr>\n",
       "    <tr>\n",
       "      <th>Time_00:00</th>\n",
       "      <td>-0.296610</td>\n",
       "    </tr>\n",
       "    <tr>\n",
       "      <th>Time_04:40</th>\n",
       "      <td>-0.269169</td>\n",
       "    </tr>\n",
       "    <tr>\n",
       "      <th>Time_22:20</th>\n",
       "      <td>-0.256732</td>\n",
       "    </tr>\n",
       "    <tr>\n",
       "      <th>Time_22:00</th>\n",
       "      <td>-0.224984</td>\n",
       "    </tr>\n",
       "    <tr>\n",
       "      <th>Time_06:00</th>\n",
       "      <td>-0.222069</td>\n",
       "    </tr>\n",
       "    <tr>\n",
       "      <th>Time_05:40</th>\n",
       "      <td>-0.221273</td>\n",
       "    </tr>\n",
       "    <tr>\n",
       "      <th>Time_22:40</th>\n",
       "      <td>-0.191813</td>\n",
       "    </tr>\n",
       "    <tr>\n",
       "      <th>Time_21:40</th>\n",
       "      <td>-0.150578</td>\n",
       "    </tr>\n",
       "    <tr>\n",
       "      <th>DayOfWeek_4.0</th>\n",
       "      <td>-0.143975</td>\n",
       "    </tr>\n",
       "    <tr>\n",
       "      <th>DayOfWeek_1.0</th>\n",
       "      <td>-0.140443</td>\n",
       "    </tr>\n",
       "    <tr>\n",
       "      <th>Time_21:20</th>\n",
       "      <td>-0.121798</td>\n",
       "    </tr>\n",
       "    <tr>\n",
       "      <th>...</th>\n",
       "      <td>...</td>\n",
       "    </tr>\n",
       "    <tr>\n",
       "      <th>Sunny</th>\n",
       "      <td>0.084559</td>\n",
       "    </tr>\n",
       "    <tr>\n",
       "      <th>Time_14:20</th>\n",
       "      <td>0.095990</td>\n",
       "    </tr>\n",
       "    <tr>\n",
       "      <th>Time_12:00</th>\n",
       "      <td>0.097323</td>\n",
       "    </tr>\n",
       "    <tr>\n",
       "      <th>Time_10:20</th>\n",
       "      <td>0.097506</td>\n",
       "    </tr>\n",
       "    <tr>\n",
       "      <th>Time_09:00</th>\n",
       "      <td>0.098033</td>\n",
       "    </tr>\n",
       "    <tr>\n",
       "      <th>Time_10:00</th>\n",
       "      <td>0.106981</td>\n",
       "    </tr>\n",
       "    <tr>\n",
       "      <th>Time_10:40</th>\n",
       "      <td>0.112728</td>\n",
       "    </tr>\n",
       "    <tr>\n",
       "      <th>Time_16:20</th>\n",
       "      <td>0.114267</td>\n",
       "    </tr>\n",
       "    <tr>\n",
       "      <th>Time_13:00</th>\n",
       "      <td>0.115185</td>\n",
       "    </tr>\n",
       "    <tr>\n",
       "      <th>Time_12:40</th>\n",
       "      <td>0.117481</td>\n",
       "    </tr>\n",
       "    <tr>\n",
       "      <th>Time_15:00</th>\n",
       "      <td>0.118329</td>\n",
       "    </tr>\n",
       "    <tr>\n",
       "      <th>Time_16:00</th>\n",
       "      <td>0.120827</td>\n",
       "    </tr>\n",
       "    <tr>\n",
       "      <th>Time_15:20</th>\n",
       "      <td>0.121019</td>\n",
       "    </tr>\n",
       "    <tr>\n",
       "      <th>Time_13:20</th>\n",
       "      <td>0.125412</td>\n",
       "    </tr>\n",
       "    <tr>\n",
       "      <th>Time_09:40</th>\n",
       "      <td>0.128134</td>\n",
       "    </tr>\n",
       "    <tr>\n",
       "      <th>Time_08:00</th>\n",
       "      <td>0.128832</td>\n",
       "    </tr>\n",
       "    <tr>\n",
       "      <th>Time_15:40</th>\n",
       "      <td>0.130959</td>\n",
       "    </tr>\n",
       "    <tr>\n",
       "      <th>Time_09:20</th>\n",
       "      <td>0.131511</td>\n",
       "    </tr>\n",
       "    <tr>\n",
       "      <th>Time_08:40</th>\n",
       "      <td>0.135461</td>\n",
       "    </tr>\n",
       "    <tr>\n",
       "      <th>Time_14:00</th>\n",
       "      <td>0.136593</td>\n",
       "    </tr>\n",
       "    <tr>\n",
       "      <th>Time_08:20</th>\n",
       "      <td>0.137244</td>\n",
       "    </tr>\n",
       "    <tr>\n",
       "      <th>Time_13:40</th>\n",
       "      <td>0.139715</td>\n",
       "    </tr>\n",
       "    <tr>\n",
       "      <th>Time_14:40</th>\n",
       "      <td>0.141144</td>\n",
       "    </tr>\n",
       "    <tr>\n",
       "      <th>Rain</th>\n",
       "      <td>0.236730</td>\n",
       "    </tr>\n",
       "    <tr>\n",
       "      <th>DayOfWeek_6.0</th>\n",
       "      <td>0.242708</td>\n",
       "    </tr>\n",
       "    <tr>\n",
       "      <th>HeavyRain</th>\n",
       "      <td>0.470395</td>\n",
       "    </tr>\n",
       "    <tr>\n",
       "      <th>Mean</th>\n",
       "      <td>0.755050</td>\n",
       "    </tr>\n",
       "    <tr>\n",
       "      <th>BeforeNationalDay</th>\n",
       "      <td>0.810585</td>\n",
       "    </tr>\n",
       "    <tr>\n",
       "      <th>NationalDayFront(1-4)</th>\n",
       "      <td>1.040848</td>\n",
       "    </tr>\n",
       "    <tr>\n",
       "      <th>NationalDayTail(5-7)</th>\n",
       "      <td>1.062288</td>\n",
       "    </tr>\n",
       "  </tbody>\n",
       "</table>\n",
       "<p>90 rows × 1 columns</p>\n",
       "</div>"
      ],
      "text/plain": [
       "                              0\n",
       "Time_01:40            -0.480946\n",
       "Time_02:00            -0.476635\n",
       "Time_01:20            -0.474093\n",
       "WorkingWeekend        -0.462890\n",
       "Time_01:00            -0.451381\n",
       "Time_02:20            -0.450323\n",
       "Time_02:40            -0.442993\n",
       "Time_03:20            -0.414555\n",
       "Time_03:40            -0.406739\n",
       "Time_03:00            -0.406605\n",
       "Time_04:00            -0.403037\n",
       "Time_23:40            -0.399819\n",
       "Time_00:40            -0.380447\n",
       "Time_23:20            -0.379110\n",
       "Time_00:20            -0.373915\n",
       "Time_23:00            -0.363248\n",
       "Time_04:20            -0.345410\n",
       "Time_05:00            -0.335142\n",
       "Time_05:20            -0.317916\n",
       "Time_00:00            -0.296610\n",
       "Time_04:40            -0.269169\n",
       "Time_22:20            -0.256732\n",
       "Time_22:00            -0.224984\n",
       "Time_06:00            -0.222069\n",
       "Time_05:40            -0.221273\n",
       "Time_22:40            -0.191813\n",
       "Time_21:40            -0.150578\n",
       "DayOfWeek_4.0         -0.143975\n",
       "DayOfWeek_1.0         -0.140443\n",
       "Time_21:20            -0.121798\n",
       "...                         ...\n",
       "Sunny                  0.084559\n",
       "Time_14:20             0.095990\n",
       "Time_12:00             0.097323\n",
       "Time_10:20             0.097506\n",
       "Time_09:00             0.098033\n",
       "Time_10:00             0.106981\n",
       "Time_10:40             0.112728\n",
       "Time_16:20             0.114267\n",
       "Time_13:00             0.115185\n",
       "Time_12:40             0.117481\n",
       "Time_15:00             0.118329\n",
       "Time_16:00             0.120827\n",
       "Time_15:20             0.121019\n",
       "Time_13:20             0.125412\n",
       "Time_09:40             0.128134\n",
       "Time_08:00             0.128832\n",
       "Time_15:40             0.130959\n",
       "Time_09:20             0.131511\n",
       "Time_08:40             0.135461\n",
       "Time_14:00             0.136593\n",
       "Time_08:20             0.137244\n",
       "Time_13:40             0.139715\n",
       "Time_14:40             0.141144\n",
       "Rain                   0.236730\n",
       "DayOfWeek_6.0          0.242708\n",
       "HeavyRain              0.470395\n",
       "Mean                   0.755050\n",
       "BeforeNationalDay      0.810585\n",
       "NationalDayFront(1-4)  1.040848\n",
       "NationalDayTail(5-7)   1.062288\n",
       "\n",
       "[90 rows x 1 columns]"
      ]
     },
     "execution_count": 364,
     "metadata": {},
     "output_type": "execute_result"
    }
   ],
   "source": [
    "coef = pd.Series(model.coef_, X_train.columns)\n",
    "coef.to_frame().sort_values(by=[0])"
   ]
  },
  {
   "cell_type": "code",
   "execution_count": null,
   "metadata": {
    "collapsed": true
   },
   "outputs": [],
   "source": []
  }
 ],
 "metadata": {
  "anaconda-cloud": {},
  "kernelspec": {
   "display_name": "Python [default]",
   "language": "python",
   "name": "python3"
  },
  "language_info": {
   "codemirror_mode": {
    "name": "ipython",
    "version": 3
   },
   "file_extension": ".py",
   "mimetype": "text/x-python",
   "name": "python",
   "nbconvert_exporter": "python",
   "pygments_lexer": "ipython3",
   "version": "3.5.2"
  }
 },
 "nbformat": 4,
 "nbformat_minor": 2
}
