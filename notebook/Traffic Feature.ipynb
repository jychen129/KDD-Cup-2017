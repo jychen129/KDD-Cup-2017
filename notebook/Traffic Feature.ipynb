{
 "cells": [
  {
   "cell_type": "code",
   "execution_count": 1,
   "metadata": {
    "collapsed": false
   },
   "outputs": [],
   "source": [
    "# Ignore warnings\n",
    "import warnings\n",
    "warnings.filterwarnings('ignore')\n",
    "\n",
    "# Handle table-like data and matrices\n",
    "import numpy as np\n",
    "import pandas as pd\n",
    "from pandas import DataFrame,Series\n",
    "import csv\n",
    "import pprint\n",
    "\n",
    "# Visualisation\n",
    "import matplotlib as mpl\n",
    "import matplotlib.pyplot as plt\n",
    "import matplotlib.pylab as pylab\n",
    "import seaborn as sns\n",
    "\n",
    "# Others\n",
    "import math\n",
    "from datetime import datetime,timedelta\n",
    "import time\n",
    "\n",
    "# Configure visualisations\n",
    "%matplotlib inline\n",
    "mpl.style.use( 'ggplot' )\n",
    "sns.set_style( 'white' )\n",
    "pylab.rcParams[ 'figure.figsize' ] = 8 , 6"
   ]
  },
  {
   "cell_type": "code",
   "execution_count": 31,
   "metadata": {
    "collapsed": false
   },
   "outputs": [],
   "source": [
    "link_trajectories = pd.read_csv('datas/train/link_trajectories(table_5)_training.csv',parse_dates=['enter_time'])\n",
    "link_trajectories['leave_time']  = link_trajectories.enter_time + link_trajectories.travel_time.map(lambda s: timedelta(0,float(s)))\n",
    "link_trajectories['leave_time'] = link_trajectories['leave_time'].map(lambda s:s.to_datetime())\n",
    "link_trajectories['enter_time'] = link_trajectories['enter_time'].map(lambda s:s.to_datetime())\n",
    "del link_trajectories['starting_time']"
   ]
  },
  {
   "cell_type": "code",
   "execution_count": 32,
   "metadata": {
    "collapsed": false,
    "scrolled": true
   },
   "outputs": [
    {
     "data": {
      "text/html": [
       "<div>\n",
       "<table border=\"1\" class=\"dataframe\">\n",
       "  <thead>\n",
       "    <tr style=\"text-align: right;\">\n",
       "      <th></th>\n",
       "      <th>enter_time</th>\n",
       "      <th>intersection_id</th>\n",
       "      <th>link_id</th>\n",
       "      <th>tollgate_id</th>\n",
       "      <th>total_travel_time</th>\n",
       "      <th>travel_seq</th>\n",
       "      <th>travel_time</th>\n",
       "      <th>vehicle_id</th>\n",
       "      <th>leave_time</th>\n",
       "    </tr>\n",
       "  </thead>\n",
       "  <tbody>\n",
       "    <tr>\n",
       "      <th>0</th>\n",
       "      <td>2016-07-19 00:14:24</td>\n",
       "      <td>B</td>\n",
       "      <td>105</td>\n",
       "      <td>3</td>\n",
       "      <td>70.85</td>\n",
       "      <td>105,100,111,103,122</td>\n",
       "      <td>9.56</td>\n",
       "      <td>1065642</td>\n",
       "      <td>2016-07-19 00:14:33.560</td>\n",
       "    </tr>\n",
       "    <tr>\n",
       "      <th>1</th>\n",
       "      <td>2016-07-19 00:14:34</td>\n",
       "      <td>B</td>\n",
       "      <td>100</td>\n",
       "      <td>3</td>\n",
       "      <td>70.85</td>\n",
       "      <td>105,100,111,103,122</td>\n",
       "      <td>6.75</td>\n",
       "      <td>1065642</td>\n",
       "      <td>2016-07-19 00:14:40.750</td>\n",
       "    </tr>\n",
       "    <tr>\n",
       "      <th>2</th>\n",
       "      <td>2016-07-19 00:14:41</td>\n",
       "      <td>B</td>\n",
       "      <td>111</td>\n",
       "      <td>3</td>\n",
       "      <td>70.85</td>\n",
       "      <td>105,100,111,103,122</td>\n",
       "      <td>13.00</td>\n",
       "      <td>1065642</td>\n",
       "      <td>2016-07-19 00:14:54.000</td>\n",
       "    </tr>\n",
       "    <tr>\n",
       "      <th>3</th>\n",
       "      <td>2016-07-19 00:14:54</td>\n",
       "      <td>B</td>\n",
       "      <td>103</td>\n",
       "      <td>3</td>\n",
       "      <td>70.85</td>\n",
       "      <td>105,100,111,103,122</td>\n",
       "      <td>7.47</td>\n",
       "      <td>1065642</td>\n",
       "      <td>2016-07-19 00:15:01.470</td>\n",
       "    </tr>\n",
       "    <tr>\n",
       "      <th>4</th>\n",
       "      <td>2016-07-19 00:15:02</td>\n",
       "      <td>B</td>\n",
       "      <td>122</td>\n",
       "      <td>3</td>\n",
       "      <td>70.85</td>\n",
       "      <td>105,100,111,103,122</td>\n",
       "      <td>32.85</td>\n",
       "      <td>1065642</td>\n",
       "      <td>2016-07-19 00:15:34.850</td>\n",
       "    </tr>\n",
       "  </tbody>\n",
       "</table>\n",
       "</div>"
      ],
      "text/plain": [
       "           enter_time intersection_id  link_id  tollgate_id  \\\n",
       "0 2016-07-19 00:14:24               B      105            3   \n",
       "1 2016-07-19 00:14:34               B      100            3   \n",
       "2 2016-07-19 00:14:41               B      111            3   \n",
       "3 2016-07-19 00:14:54               B      103            3   \n",
       "4 2016-07-19 00:15:02               B      122            3   \n",
       "\n",
       "   total_travel_time           travel_seq  travel_time  vehicle_id  \\\n",
       "0              70.85  105,100,111,103,122         9.56     1065642   \n",
       "1              70.85  105,100,111,103,122         6.75     1065642   \n",
       "2              70.85  105,100,111,103,122        13.00     1065642   \n",
       "3              70.85  105,100,111,103,122         7.47     1065642   \n",
       "4              70.85  105,100,111,103,122        32.85     1065642   \n",
       "\n",
       "               leave_time  \n",
       "0 2016-07-19 00:14:33.560  \n",
       "1 2016-07-19 00:14:40.750  \n",
       "2 2016-07-19 00:14:54.000  \n",
       "3 2016-07-19 00:15:01.470  \n",
       "4 2016-07-19 00:15:34.850  "
      ]
     },
     "execution_count": 32,
     "metadata": {},
     "output_type": "execute_result"
    }
   ],
   "source": [
    "link_trajectories.head()"
   ]
  },
  {
   "cell_type": "markdown",
   "metadata": {},
   "source": [
    "flow, speed, and lane occupancy. "
   ]
  },
  {
   "cell_type": "code",
   "execution_count": 33,
   "metadata": {
    "collapsed": false
   },
   "outputs": [],
   "source": [
    "def group(data):\n",
    "    data = sorted(data)\n",
    "    it = iter(data)\n",
    "    a, b = next(it)\n",
    "    for c, d in it:\n",
    "        if b > c:  # Use `if b > c` if you want (1,2), (2,3) not to be\n",
    "            # treated as intersection.\n",
    "            b = max(b, d)\n",
    "        else:\n",
    "            yield a, b\n",
    "            a, b = c, d\n",
    "    yield a, b\n",
    "\n",
    "\n",
    "def get_ts(t):\n",
    "    ts = t.to_datetime() - datetime(2016, 7, 19)\n",
    "    ts = int(ts / timedelta(0, 20 * 60))\n",
    "    return ts"
   ]
  },
  {
   "cell_type": "code",
   "execution_count": 34,
   "metadata": {
    "collapsed": false,
    "scrolled": false
   },
   "outputs": [],
   "source": [
    "safe = link_trajectories['enter_time'].map(get_ts) == link_trajectories['leave_time'].map(get_ts)"
   ]
  },
  {
   "cell_type": "code",
   "execution_count": 35,
   "metadata": {
    "collapsed": false
   },
   "outputs": [],
   "source": [
    "link_trajectories['safe'] = safe"
   ]
  },
  {
   "cell_type": "code",
   "execution_count": 36,
   "metadata": {
    "collapsed": false
   },
   "outputs": [],
   "source": [
    "unsafe_ds = link_trajectories[link_trajectories.safe == False].to_dict('records')"
   ]
  },
  {
   "cell_type": "code",
   "execution_count": 37,
   "metadata": {
    "collapsed": false
   },
   "outputs": [
    {
     "data": {
      "text/plain": [
       "{'enter_time': Timestamp('2016-07-19 01:38:40'),\n",
       " 'intersection_id': 'C',\n",
       " 'leave_time': Timestamp('2016-07-19 01:40:02.870000'),\n",
       " 'link_id': 113,\n",
       " 'safe': False,\n",
       " 'tollgate_id': 1,\n",
       " 'total_travel_time': 214.87,\n",
       " 'travel_seq': '115,102,109,104,112,111,103,116,101,121,106,113',\n",
       " 'travel_time': 82.87,\n",
       " 'vehicle_id': 1056529}"
      ]
     },
     "execution_count": 37,
     "metadata": {},
     "output_type": "execute_result"
    }
   ],
   "source": [
    "unsafe_ds[0]"
   ]
  },
  {
   "cell_type": "code",
   "execution_count": 38,
   "metadata": {
    "collapsed": false
   },
   "outputs": [],
   "source": [
    "def get_mid_time(record):\n",
    "    temp_time = (get_ts(record['enter_time']) + 1) * np.timedelta64(20, 'm')\n",
    "    mid_time = temp_time + np.datetime64('2016-07-19T00:00:00Z')\n",
    "    enter_time = np.datetime64(record['enter_time'].to_datetime(), 's')\n",
    "    leave_time = np.datetime64(record['leave_time'].to_datetime(), 's')\n",
    "    return mid_time, mid_time - enter_time, leave_time - mid_time"
   ]
  },
  {
   "cell_type": "code",
   "execution_count": 39,
   "metadata": {
    "collapsed": false
   },
   "outputs": [],
   "source": [
    "new_safe_ds = []\n",
    "for record in unsafe_ds:\n",
    "    mid_time, ft, ss = get_mid_time(record)\n",
    "\n",
    "    record_copy = record.copy()\n",
    "    record['leave_time'] = mid_time\n",
    "    record['travel_time'] = ft\n",
    "    record_copy['enter_time'] = mid_time\n",
    "    record_copy['travel_time'] = ss\n",
    "    new_safe_ds.append(record)\n",
    "    new_safe_ds.append(record_copy)"
   ]
  },
  {
   "cell_type": "code",
   "execution_count": 40,
   "metadata": {
    "collapsed": false
   },
   "outputs": [],
   "source": [
    "new_link_trajectories = pd.concat([\n",
    "    pd.DataFrame(new_safe_ds),\n",
    "    link_trajectories[link_trajectories.safe == True]\n",
    "])\n",
    "\n",
    "del new_link_trajectories['safe']\n",
    "del new_link_trajectories['travel_seq']"
   ]
  },
  {
   "cell_type": "code",
   "execution_count": null,
   "metadata": {
    "collapsed": false
   },
   "outputs": [],
   "source": [
    "new_link_trajectories.sort(columns=['enter_time'])"
   ]
  },
  {
   "cell_type": "code",
   "execution_count": null,
   "metadata": {
    "collapsed": true
   },
   "outputs": [],
   "source": []
  }
 ],
 "metadata": {
  "anaconda-cloud": {},
  "kernelspec": {
   "display_name": "Python [default]",
   "language": "python",
   "name": "python3"
  },
  "language_info": {
   "codemirror_mode": {
    "name": "ipython",
    "version": 3
   },
   "file_extension": ".py",
   "mimetype": "text/x-python",
   "name": "python",
   "nbconvert_exporter": "python",
   "pygments_lexer": "ipython3",
   "version": "3.5.2"
  }
 },
 "nbformat": 4,
 "nbformat_minor": 2
}
